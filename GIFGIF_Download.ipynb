{
 "cells": [
  {
   "cell_type": "markdown",
   "metadata": {
    "colab_type": "text",
    "id": "La2UqbeYIBPu"
   },
   "source": [
    "*Credit: This notebook was prepared by TA Payam Jome Yazdian*\n",
    "\n",
    "# Download GIFGIF dataset\n",
    "In this Notebook, we are going to download GIFGIF dataset using  the GIFGIF API.\n",
    "\n",
    "For more details please refer to this [link](http://gifgif.media.mit.edu/labs/api).\n",
    "\n",
    "\n",
    "\n",
    "## Import dependencies"
   ]
  },
  {
   "cell_type": "code",
   "execution_count": 1,
   "metadata": {
    "colab": {},
    "colab_type": "code",
    "id": "c2Fa3X-XFJOd"
   },
   "outputs": [],
   "source": [
    "import json\n",
    "import requests\n",
    "import urllib.parse\n",
    "from pathlib import Path\n",
    "import os"
   ]
  },
  {
   "cell_type": "markdown",
   "metadata": {
    "colab_type": "text",
    "id": "-HQEaPqBIsgD"
   },
   "source": [
    "# Metrics\n",
    "[GIFGIF+](http://gifgif.media.mit.edu/labs/api) is a MIT project built on top of their own QUANTIFY framework:\n",
    "\n",
    "\"QUANTIFY is a generalized framework and JavaScript library to allow rapid multi-dimensional \"measurement\" of subjective qualities of media. The goal is to make qualitative metrics quantized. For everything from measuring emotional responses of content to the cultural importance of world landmarks, QUANTIFY helps to elicit the raw human subjectivity that fills much of our lives, and makes it programmatically actionable.\"\n",
    "- https://www.media.mit.edu/projects/quantify/overview/\n",
    "\n",
    "The metrics for our project can be collected by querying the displayMetrics endpoint. Here, the metrics in the link below correspond to emotion labels.\n",
    "\n",
    " ## Get all metrics from the following URL:\n",
    "\n",
    " - https://www.qnt.io/api/displaymetrics?pID=gifgif&mode=all&key=54a309ac1c61be23aba0da3f\n",
    "\n",
    "\n",
    "To make a request to a remote web server and retrieve data, we make use of the URL endpoint from where the API is being served.\n",
    "\n",
    "Finally, we make a dictionary including metrics and mID for further requests."
   ]
  },
  {
   "cell_type": "code",
   "execution_count": 2,
   "metadata": {
    "colab": {
     "base_uri": "https://localhost:8080/",
     "height": 306
    },
    "colab_type": "code",
    "id": "jdX8KH6KIwat",
    "outputId": "016d7e2a-dcd9-416d-d8e4-8131322f5fb6"
   },
   "outputs": [
    {
     "name": "stdout",
     "output_type": "stream",
     "text": [
      "amusement ______ 54a309ae1c61be23aba0da53\n",
      "relief ______ 54a309ae1c61be23aba0da5f\n",
      "pleasure ______ 54a309ae1c61be23aba0da5d\n",
      "guilt ______ 54a309ae1c61be23aba0da5b\n",
      "contentment ______ 54a309ae1c61be23aba0da56\n",
      "surprise ______ 54a309ae1c61be23aba0da63\n",
      "anger ______ 54a309ae1c61be23aba0da54\n",
      "fear ______ 54a309ae1c61be23aba0da5a\n",
      "pride ______ 54a309ae1c61be23aba0da5e\n",
      "contempt ______ 54a309ae1c61be23aba0da55\n",
      "shame ______ 54a309ae1c61be23aba0da62\n",
      "satisfaction ______ 54a309ae1c61be23aba0da61\n",
      "excitement ______ 54a309ae1c61be23aba0da59\n",
      "embarrassment ______ 54a309ae1c61be23aba0da58\n",
      "disgust ______ 54a309ae1c61be23aba0da57\n",
      "sadness ______ 54a309ae1c61be23aba0da60\n",
      "happiness ______ 54a309ae1c61be23aba0da5c\n"
     ]
    }
   ],
   "source": [
    "API_ENDPOINT = 'https://www.qnt.io/api/displaymetrics?pID=gifgif&mode=all&key=54a309ac1c61be23aba0da3f'\n",
    "#Make a request: \n",
    "r=requests.get(API_ENDPOINT)\n",
    "\n",
    "#Parse the response using JSON\n",
    "output_json = json.loads(r.text)\n",
    "\n",
    "Dic = []\n",
    "\n",
    "for obj in output_json:\n",
    "  Dic.append( [obj[('metric')], obj[('mID')]] )\n",
    "  print(obj[('metric')], '______', obj[('mID')])"
   ]
  },
  {
   "cell_type": "markdown",
   "metadata": {
    "colab_type": "text",
    "id": "KbigrIYwzAoc"
   },
   "source": [
    "# Download samples\n",
    "\n",
    "In this part we download samples using the dicitionary.\n",
    "\n",
    "If you are using Google-Colab notebook, please follow this instruction to mount your Google-Drive.\n",
    "-  First, open the file browser on the left hand side. It will show a **'Mount Drive'** button similar to the Google Drive Icon.\n",
    "- Once clicked, you'll see a permissions prompt to mount Drive, and then your Drive files will be present.\n",
    "- Afterward, look for your intended folder, right-click on that, and click \"Copy path\".\n",
    "- Finally, paste it in the following qutation."
   ]
  },
  {
   "cell_type": "code",
   "execution_count": 5,
   "metadata": {
    "colab": {
     "base_uri": "https://localhost:8080/",
     "height": 130
    },
    "colab_type": "code",
    "id": "lrXThQUnFf6x",
    "outputId": "5ff4f4ed-af75-41d1-a4b9-76c512f1e4cd"
   },
   "outputs": [
    {
     "name": "stdout",
     "output_type": "stream",
     "text": [
      "sadness->GIFGIF_Dataset/sadness\n",
      "Finished\n"
     ]
    }
   ],
   "source": [
    "BaseFolder = 'GIFGIF_Dataset'\n",
    "sample_count = 1000  # Feel free to change this number\n",
    "\n",
    "# for obj in Dic:\n",
    "\n",
    "#   Metric, mID = obj\n",
    "\n",
    "#   # To download a specific metric (e.g. fear, contentment, etc.), uncomment the following condition.\n",
    "#   if Metric is not \"sadness\":\n",
    "#     continue\n",
    "\n",
    "#   # Check if the metric folder does not exist in the base folder, then create it.\n",
    "Metric = \"sadness\"\n",
    "directory = str(BaseFolder) + '/' + str(Metric)\n",
    "print(Metric + \"->\" + directory)\n",
    "if not os.path.exists(directory):\n",
    "    os.makedirs(directory)\n",
    "\n",
    "# Create request URL \n",
    "API_ENDPOINT = \"https://www.qnt.io/api/results?pID=gifgif&mID={}&limit={}&key=54a309ac1c61be23aba0da3f&mode\".format(\"54a309ae1c61be23aba0da60\", 10)\n",
    "r=requests.get(API_ENDPOINT)\n",
    "output_json = json.loads(r.text)\n",
    "\n",
    "# Download gif file\n",
    "for result in output_json['results']:\n",
    "    embedLink = result['content_data']['embedLink']\n",
    "    r = requests.get(embedLink, allow_redirects=True)\n",
    "    open(directory + '/' + str(result['rank']), 'wb').write(r.content)\n",
    "\n",
    "print(\"Finished\")"
   ]
  },
  {
   "cell_type": "code",
   "execution_count": 4,
   "metadata": {
    "colab": {},
    "colab_type": "code",
    "id": "sSUqN3cTI_29"
   },
   "outputs": [
    {
     "ename": "ModuleNotFoundError",
     "evalue": "No module named 'google'",
     "output_type": "error",
     "traceback": [
      "\u001b[0;31m---------------------------------------------------------------------------\u001b[0m",
      "\u001b[0;31mModuleNotFoundError\u001b[0m                       Traceback (most recent call last)",
      "\u001b[0;32m<ipython-input-4-d5df0069828e>\u001b[0m in \u001b[0;36m<module>\u001b[0;34m\u001b[0m\n\u001b[0;32m----> 1\u001b[0;31m \u001b[0;32mfrom\u001b[0m \u001b[0mgoogle\u001b[0m\u001b[0;34m.\u001b[0m\u001b[0mcolab\u001b[0m \u001b[0;32mimport\u001b[0m \u001b[0mdrive\u001b[0m\u001b[0;34m\u001b[0m\u001b[0;34m\u001b[0m\u001b[0m\n\u001b[0m\u001b[1;32m      2\u001b[0m \u001b[0mdrive\u001b[0m\u001b[0;34m.\u001b[0m\u001b[0mmount\u001b[0m\u001b[0;34m(\u001b[0m\u001b[0;34m'/content/drive'\u001b[0m\u001b[0;34m)\u001b[0m\u001b[0;34m\u001b[0m\u001b[0;34m\u001b[0m\u001b[0m\n",
      "\u001b[0;31mModuleNotFoundError\u001b[0m: No module named 'google'"
     ]
    }
   ],
   "source": [
    "from google.colab import drive\n",
    "drive.mount('/content/drive')"
   ]
  }
 ],
 "metadata": {
  "colab": {
   "collapsed_sections": [],
   "name": "GIFGIF Download.ipynb",
   "provenance": [],
   "toc_visible": true
  },
  "kernelspec": {
   "display_name": "Python 3",
   "name": "python3"
  },
  "language_info": {
   "codemirror_mode": {
    "name": "ipython",
    "version": 3
   },
   "file_extension": ".py",
   "mimetype": "text/x-python",
   "name": "python",
   "nbconvert_exporter": "python",
   "pygments_lexer": "ipython3",
   "version": "3.7.3"
  },
  "nteract": {
   "version": "nteract-on-jupyter@2.1.3"
  }
 },
 "nbformat": 4,
 "nbformat_minor": 0
}
