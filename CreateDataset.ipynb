{
 "cells": [
  {
   "cell_type": "markdown",
   "metadata": {},
   "source": [
    "# Create dataset"
   ]
  },
  {
   "cell_type": "code",
   "execution_count": 7,
   "metadata": {},
   "outputs": [],
   "source": [
    "import os\n",
    "from PIL import Image\n",
    "from pathlib import Path\n",
    "\n",
    "\n",
    "def extractFrames(inGif, outFolder):\n",
    "    group = str(os.path.basename(inGif)).split(\".\")[0]\n",
    "        \n",
    "    path = f\"{outFolder}/{group}\"\n",
    "    frame = Image.open(inGif)\n",
    "    nframes = 0\n",
    "    # Create path if not exist\n",
    "    Path(path).mkdir(parents=True, exist_ok=True)\n",
    "    \n",
    "    while frame:\n",
    "        frame.save('%s/%s/%s.png' % (outFolder, group, nframes ))\n",
    "        nframes += 1\n",
    "        try:\n",
    "            frame.seek( nframes )\n",
    "        except EOFError:\n",
    "            break;\n",
    "    return True"
   ]
  },
  {
   "cell_type": "code",
   "execution_count": 8,
   "metadata": {},
   "outputs": [
    {
     "name": "stdout",
     "output_type": "stream",
     "text": [
      "Issue\n"
     ]
    }
   ],
   "source": [
    "import glob\n",
    "\n",
    "DATA = \"GIFGIF_Dataset\"\n",
    "\n",
    "IN = f\"{DATA}/gifs/*\"\n",
    "OUT = f\"{DATA}/images\"\n",
    "\n",
    "files = glob.glob(IN)\n",
    "\n",
    "for file in files:\n",
    "    try:\n",
    "        extractFrames(file, OUT)\n",
    "    except: \n",
    "        print(\"Issue\")"
   ]
  },
  {
   "cell_type": "code",
   "execution_count": null,
   "metadata": {},
   "outputs": [],
   "source": []
  }
 ],
 "metadata": {
  "kernelspec": {
   "display_name": "Python 3",
   "language": "python",
   "name": "python3"
  },
  "language_info": {
   "codemirror_mode": {
    "name": "ipython",
    "version": 3
   },
   "file_extension": ".py",
   "mimetype": "text/x-python",
   "name": "python",
   "nbconvert_exporter": "python",
   "pygments_lexer": "ipython3",
   "version": "3.7.3"
  }
 },
 "nbformat": 4,
 "nbformat_minor": 4
}
