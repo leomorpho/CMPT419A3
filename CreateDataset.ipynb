{
 "cells": [
  {
   "cell_type": "markdown",
   "metadata": {},
   "source": [
    "# Create dataset"
   ]
  },
  {
   "cell_type": "code",
   "execution_count": null,
   "metadata": {},
   "outputs": [],
   "source": [
    "import os\n",
    "from PIL import Image\n",
    "\n",
    "\n",
    "def extractFrames(inGif, outFolder):\n",
    "    frame = Image.open(inGif)\n",
    "    nframes = 0\n",
    "    while frame:\n",
    "        frame.save( '%s/%s-%s.gif' % (outFolder, os.path.basename(inGif), nframes ) , 'GIF')\n",
    "        nframes += 1\n",
    "        try:\n",
    "            frame.seek( nframes )\n",
    "        except EOFError:\n",
    "            break;\n",
    "    return True\n",
    "    \n",
    "\n",
    "extractFrames('ban_ccccccccccc.gif', 'output')"
   ]
  }
 ],
 "metadata": {
  "kernelspec": {
   "display_name": "Python 3",
   "language": "python",
   "name": "python3"
  },
  "language_info": {
   "codemirror_mode": {
    "name": "ipython",
    "version": 3
   },
   "file_extension": ".py",
   "mimetype": "text/x-python",
   "name": "python",
   "nbconvert_exporter": "python",
   "pygments_lexer": "ipython3",
   "version": "3.7.3"
  }
 },
 "nbformat": 4,
 "nbformat_minor": 4
}
